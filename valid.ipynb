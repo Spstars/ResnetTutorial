{
 "cells": [
  {
   "cell_type": "code",
   "execution_count": 1,
   "metadata": {},
   "outputs": [],
   "source": [
    "#label feature size 28 * 28\n",
    "import torchvision.models as models\n",
    "import torch.nn as nn\n",
    "import torch\n",
    "import numpy as np\n",
    "from resnet50 import resnet50\n",
    "import operators as op_nn\n",
    "X = np.random.random(size=(1,3,64,64)) "
   ]
  },
  {
   "cell_type": "code",
   "execution_count": null,
   "metadata": {},
   "outputs": [],
   "source": [
    "X.shape"
   ]
  },
  {
   "cell_type": "code",
   "execution_count": 7,
   "metadata": {},
   "outputs": [
    {
     "name": "stdout",
     "output_type": "stream",
     "text": [
      "[0, 0, 0, 0, 0, 0, 0, 0, 0, 0, 0, 0, 0, 0, 0, 0, 0, 0, 0, 0, 0, 0, 0, 0, 0, 0, 0, 0, 0, 0, 0, 0, 0, 0, 0, 0, 0, 0, 0, 0, 0, 0, 0, 0, 0, 0, 0, 0, 0, 0, 0, 0, 0, 0, 0, 0, 0, 0, 0, 0, 0, 0, 0, 0, 0, 0, 0, 0, 0, 0]\n"
     ]
    }
   ],
   "source": [
    "print(X[0][0][0][:])"
   ]
  },
  {
   "cell_type": "code",
   "execution_count": null,
   "metadata": {},
   "outputs": [],
   "source": []
  },
  {
   "cell_type": "code",
   "execution_count": 2,
   "metadata": {},
   "outputs": [
    {
     "name": "stdout",
     "output_type": "stream",
     "text": [
      "load state dict\n"
     ]
    }
   ],
   "source": [
    "from resnet50 import resnet50\n",
    "import operators as op_nn\n",
    "resnet = resnet50()\n",
    "\n",
    "resnet.load_state_dict()\n",
    "X_list= X.tolist()\n"
   ]
  },
  {
   "cell_type": "code",
   "execution_count": 4,
   "metadata": {},
   "outputs": [
    {
     "name": "stdout",
     "output_type": "stream",
     "text": [
      "1 3 64 64\n"
     ]
    }
   ],
   "source": [
    "print(len(X_list),len(X_list[0]),len(X_list[0][0]),len(X_list[0][0][0]),)"
   ]
  },
  {
   "cell_type": "code",
   "execution_count": 3,
   "metadata": {},
   "outputs": [
    {
     "name": "stdout",
     "output_type": "stream",
     "text": [
      "cnn : batch, channel, width,kernel : 1 3 64 (7, 7)\n",
      "16\n",
      "cnn : batch, channel, width,kernel : 1 64 16 (1, 1)\n",
      "cnn : batch, channel, width,kernel : 1 64 16 (3, 3)\n",
      "cnn : batch, channel, width,kernel : 1 64 16 (1, 1)\n",
      "cnn : batch, channel, width,kernel : 1 64 16 (1, 1)\n",
      "cnn : batch, channel, width,kernel : 1 256 16 (1, 1)\n",
      "cnn : batch, channel, width,kernel : 1 64 16 (3, 3)\n",
      "cnn : batch, channel, width,kernel : 1 64 16 (1, 1)\n",
      "cnn : batch, channel, width,kernel : 1 256 16 (1, 1)\n",
      "cnn : batch, channel, width,kernel : 1 64 16 (3, 3)\n",
      "cnn : batch, channel, width,kernel : 1 64 16 (1, 1)\n",
      "cnn : batch, channel, width,kernel : 1 256 16 (1, 1)\n",
      "cnn : batch, channel, width,kernel : 1 128 16 (3, 3)\n",
      "cnn : batch, channel, width,kernel : 1 128 8 (1, 1)\n",
      "cnn : batch, channel, width,kernel : 1 256 16 (1, 1)\n",
      "cnn : batch, channel, width,kernel : 1 512 8 (1, 1)\n",
      "cnn : batch, channel, width,kernel : 1 128 8 (3, 3)\n",
      "cnn : batch, channel, width,kernel : 1 128 8 (1, 1)\n",
      "cnn : batch, channel, width,kernel : 1 512 8 (1, 1)\n",
      "cnn : batch, channel, width,kernel : 1 128 8 (3, 3)\n",
      "cnn : batch, channel, width,kernel : 1 128 8 (1, 1)\n",
      "cnn : batch, channel, width,kernel : 1 512 8 (1, 1)\n",
      "cnn : batch, channel, width,kernel : 1 128 8 (3, 3)\n",
      "cnn : batch, channel, width,kernel : 1 128 8 (1, 1)\n",
      "cnn : batch, channel, width,kernel : 1 512 8 (1, 1)\n",
      "cnn : batch, channel, width,kernel : 1 256 8 (3, 3)\n",
      "cnn : batch, channel, width,kernel : 1 256 4 (1, 1)\n",
      "cnn : batch, channel, width,kernel : 1 512 8 (1, 1)\n",
      "cnn : batch, channel, width,kernel : 1 1024 4 (1, 1)\n",
      "cnn : batch, channel, width,kernel : 1 256 4 (3, 3)\n",
      "cnn : batch, channel, width,kernel : 1 256 4 (1, 1)\n",
      "cnn : batch, channel, width,kernel : 1 1024 4 (1, 1)\n",
      "cnn : batch, channel, width,kernel : 1 256 4 (3, 3)\n",
      "cnn : batch, channel, width,kernel : 1 256 4 (1, 1)\n",
      "cnn : batch, channel, width,kernel : 1 1024 4 (1, 1)\n",
      "cnn : batch, channel, width,kernel : 1 256 4 (3, 3)\n",
      "cnn : batch, channel, width,kernel : 1 256 4 (1, 1)\n",
      "cnn : batch, channel, width,kernel : 1 1024 4 (1, 1)\n",
      "cnn : batch, channel, width,kernel : 1 256 4 (3, 3)\n",
      "cnn : batch, channel, width,kernel : 1 256 4 (1, 1)\n",
      "cnn : batch, channel, width,kernel : 1 1024 4 (1, 1)\n",
      "cnn : batch, channel, width,kernel : 1 256 4 (3, 3)\n",
      "cnn : batch, channel, width,kernel : 1 256 4 (1, 1)\n"
     ]
    }
   ],
   "source": [
    "check_y =resnet.layer0_0_maxpool1(resnet.relu(resnet.layer0_0_bn1(resnet.layer0_0_conv1(X_list))))\n",
    "check_y1 =resnet.residual_block(resnet.residual_block(resnet.residual_block(check_y ,1,0,True) ,1,1,False),1,2,False)\n",
    "check_y2 =resnet.residual_block(resnet.residual_block(resnet.residual_block(resnet.residual_block(check_y1 ,2,0,True) ,2,1,False),2,2,False),2,3,False)\n",
    "check_y3 =resnet.residual_block(resnet.residual_block(resnet.residual_block(resnet.residual_block(resnet.residual_block(resnet.residual_block(check_y2 ,3,0,True) ,3,1,False),3,2,False),3,3,False),3,4,False),3,5,False)"
   ]
  },
  {
   "cell_type": "code",
   "execution_count": 4,
   "metadata": {},
   "outputs": [
    {
     "name": "stdout",
     "output_type": "stream",
     "text": [
      "cnn : batch, channel, width,kernel : 1 1024 4 (1, 1)\n",
      "cnn : batch, channel, width,kernel : 1 512 4 (3, 3)\n",
      "cnn : batch, channel, width,kernel : 1 512 2 (1, 1)\n",
      "cnn : batch, channel, width,kernel : 1 1024 4 (1, 1)\n",
      "cnn : batch, channel, width,kernel : 1 2048 2 (1, 1)\n",
      "cnn : batch, channel, width,kernel : 1 512 2 (3, 3)\n",
      "cnn : batch, channel, width,kernel : 1 512 2 (1, 1)\n",
      "cnn : batch, channel, width,kernel : 1 2048 2 (1, 1)\n",
      "cnn : batch, channel, width,kernel : 1 512 2 (3, 3)\n",
      "cnn : batch, channel, width,kernel : 1 512 2 (1, 1)\n"
     ]
    }
   ],
   "source": [
    "check_y4 =resnet.residual_block(resnet.residual_block(resnet.residual_block(check_y3 ,4,0,True) ,4,1,False),4,2,False)"
   ]
  },
  {
   "cell_type": "code",
   "execution_count": 5,
   "metadata": {},
   "outputs": [],
   "source": [
    "check_y5= resnet.avgpool2d(check_y4)"
   ]
  },
  {
   "cell_type": "code",
   "execution_count": 6,
   "metadata": {},
   "outputs": [],
   "source": [
    "check_y6 =resnet.linear(check_y5)"
   ]
  },
  {
   "cell_type": "code",
   "execution_count": null,
   "metadata": {},
   "outputs": [],
   "source": [
    "torch_max_check = nn.MaxPool2d(kernel_size=3,stride=2,padding=1,dilation=1,ceil_mode=False)\n",
    "max_torch_pool = torch_max_check(torch.tensor(check_y))\n",
    "max_check = resnet.layer0_0_maxpool1(check_y)\n"
   ]
  },
  {
   "cell_type": "code",
   "execution_count": null,
   "metadata": {},
   "outputs": [],
   "source": []
  },
  {
   "cell_type": "code",
   "execution_count": null,
   "metadata": {},
   "outputs": [],
   "source": [
    "max_torch_pool[0][0][0][:10]"
   ]
  },
  {
   "cell_type": "code",
   "execution_count": null,
   "metadata": {},
   "outputs": [],
   "source": [
    "print(X_list[0][0][0][0],X_list[0][0][0][1],X_list[0][0][0][2],X_list[0][0][0][3])"
   ]
  },
  {
   "cell_type": "code",
   "execution_count": null,
   "metadata": {},
   "outputs": [],
   "source": [
    "pred_y2 = resnet.forward(X_list)\n"
   ]
  },
  {
   "cell_type": "code",
   "execution_count": null,
   "metadata": {},
   "outputs": [],
   "source": [
    "print(len(pred_y2),len(pred_y2[0]),pred_y2[0][0])\n",
    "savey=pred_y2"
   ]
  },
  {
   "cell_type": "code",
   "execution_count": null,
   "metadata": {},
   "outputs": [],
   "source": [
    "softmax = op_nn.softmax()\n",
    "softmax_y = softmax(savey)"
   ]
  },
  {
   "cell_type": "code",
   "execution_count": null,
   "metadata": {},
   "outputs": [],
   "source": []
  },
  {
   "cell_type": "code",
   "execution_count": null,
   "metadata": {},
   "outputs": [],
   "source": [
    "print(softmax_y[0].index(max(softmax_y[0])))"
   ]
  },
  {
   "cell_type": "code",
   "execution_count": 7,
   "metadata": {},
   "outputs": [],
   "source": [
    "#model 정의\n",
    "import torchvision.models as models\n",
    "import torch.nn as nn\n",
    "import torch\n",
    "import numpy as np\n",
    "\n",
    "class Resnet50(nn.Module):\n",
    "  def __init__ (self,input_size=1):\n",
    "    super(Resnet50, self).__init__()\n",
    "    self.model = models.resnet50(pretrained=True)\n",
    "  def forward(self, x):\n",
    "    x = self.model.conv1(x)\n",
    "    x =self.model.bn1(x)\n",
    "    x = self.model.relu(x)\n",
    "    x = self.model.maxpool(x)\n",
    "    x = self.model.layer1(x)\n",
    "    x = self.model.layer2(x)\n",
    "    x = self.model.layer3(x)\n",
    "    x = self.model.layer4(x)\n",
    "    x = self.model.avgpool(x)\n",
    "    x= x.reshape(1,-1,2048)\n",
    "    x = self.model.fc(x)\n",
    "    \n",
    "    return x\n"
   ]
  },
  {
   "cell_type": "code",
   "execution_count": 8,
   "metadata": {},
   "outputs": [
    {
     "name": "stderr",
     "output_type": "stream",
     "text": [
      "c:\\Users\\gijin100\\AppData\\Local\\Programs\\Python\\Python312\\Lib\\site-packages\\torchvision\\models\\_utils.py:208: UserWarning: The parameter 'pretrained' is deprecated since 0.13 and may be removed in the future, please use 'weights' instead.\n",
      "  warnings.warn(\n",
      "c:\\Users\\gijin100\\AppData\\Local\\Programs\\Python\\Python312\\Lib\\site-packages\\torchvision\\models\\_utils.py:223: UserWarning: Arguments other than a weight enum or `None` for 'weights' are deprecated since 0.13 and may be removed in the future. The current behavior is equivalent to passing `weights=ResNet50_Weights.IMAGENET1K_V1`. You can also use `weights=ResNet50_Weights.DEFAULT` to get the most up-to-date weights.\n",
      "  warnings.warn(msg)\n"
     ]
    }
   ],
   "source": [
    "X_tensor = torch.tensor(X,dtype=torch.float32)\n",
    "model = Resnet50().to(\"cpu\")\n",
    "\n",
    "model_list =[]\n",
    "#train_dataLoader ,test_dataloader는 위에서 정의함.\n",
    "softmax = nn.Softmax2d()\n",
    "model.eval()\n",
    "with torch.no_grad():\n",
    "    pred_y = model(X_tensor)\n",
    "    model_list.append(pred_y)"
   ]
  },
  {
   "cell_type": "code",
   "execution_count": null,
   "metadata": {},
   "outputs": [],
   "source": [
    "print(model_list[0][0].shape)"
   ]
  },
  {
   "cell_type": "code",
   "execution_count": null,
   "metadata": {},
   "outputs": [],
   "source": [
    "softmax = op_nn.softmax()\n",
    "torch.argmax(model_list[0])"
   ]
  },
  {
   "cell_type": "code",
   "execution_count": null,
   "metadata": {},
   "outputs": [],
   "source": []
  },
  {
   "cell_type": "code",
   "execution_count": null,
   "metadata": {},
   "outputs": [],
   "source": [
    "print(softmax(model_list[0]))\n",
    "k=softmax(savey)\n",
    "print(k)\n",
    "print(model_list)"
   ]
  },
  {
   "cell_type": "code",
   "execution_count": null,
   "metadata": {},
   "outputs": [],
   "source": [
    "print(len(savey[0]))\n",
    "print(savey[0][:])\n",
    "print(model_list[0][0][:10])\n",
    "count =0\n",
    "for i in range(2048):\n",
    "    if savey[0][i] == model_list[0][0][i] == 0 or (savey[0]!= 0 and model_list[0][0][i]!=0):\n",
    "        count+=1\n",
    "print(count)"
   ]
  },
  {
   "cell_type": "code",
   "execution_count": 15,
   "metadata": {},
   "outputs": [
    {
     "name": "stdout",
     "output_type": "stream",
     "text": [
      "tensor([0.2689, 0.0000])\n",
      "[0.22043488016088095, 0.371370266648837, 0.3247152005652179, 0.3247152005652179, 0.19940692861446888, 0.24505488238418127, 0.24505488238418127, 0.26029258108400233, 0.38314502007996104, 0.18310711105222202]\n",
      "[0.0014560971807429778, 0.003955445024687842, 0.014726139821317263, 0, 0, 0.011520815669286618, 0, 0.025835048270863085]\n"
     ]
    }
   ],
   "source": [
    "print(model_list[0][0][0][1][:10])\n",
    "print(check_y[0][0][0][:10])\n",
    "print(check_y2[0][0][0][:10])"
   ]
  },
  {
   "cell_type": "code",
   "execution_count": 22,
   "metadata": {},
   "outputs": [
    {
     "name": "stdout",
     "output_type": "stream",
     "text": [
      "tensor([[[0.1627]],\n",
      "\n",
      "        [[0.0000]],\n",
      "\n",
      "        [[0.0000]],\n",
      "\n",
      "        [[0.0000]],\n",
      "\n",
      "        [[0.9876]],\n",
      "\n",
      "        [[2.0764]],\n",
      "\n",
      "        [[0.0000]],\n",
      "\n",
      "        [[0.0000]],\n",
      "\n",
      "        [[0.5223]],\n",
      "\n",
      "        [[0.0000]]])\n"
     ]
    }
   ],
   "source": [
    "print(model_list[0][0][:10])"
   ]
  },
  {
   "cell_type": "code",
   "execution_count": 21,
   "metadata": {},
   "outputs": [
    {
     "data": {
      "text/plain": [
       "[0.16266903945661415,\n",
       " 0.0,\n",
       " 0.0,\n",
       " 0.0,\n",
       " 0.9875692198388497,\n",
       " 2.0763636960258394,\n",
       " 0.0,\n",
       " 0.0,\n",
       " 0.5222747616295322,\n",
       " 0.0]"
      ]
     },
     "execution_count": 21,
     "metadata": {},
     "output_type": "execute_result"
    }
   ],
   "source": [
    "check_y5[0][:10]"
   ]
  }
 ],
 "metadata": {
  "kernelspec": {
   "display_name": "Python 3",
   "language": "python",
   "name": "python3"
  },
  "language_info": {
   "codemirror_mode": {
    "name": "ipython",
    "version": 3
   },
   "file_extension": ".py",
   "mimetype": "text/x-python",
   "name": "python",
   "nbconvert_exporter": "python",
   "pygments_lexer": "ipython3",
   "version": "3.12.2"
  }
 },
 "nbformat": 4,
 "nbformat_minor": 2
}
